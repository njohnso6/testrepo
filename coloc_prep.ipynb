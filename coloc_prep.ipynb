{
 "cells": [
  {
   "cell_type": "code",
   "execution_count": 12,
   "metadata": {},
   "outputs": [
    {
     "ename": "ModuleNotFoundError",
     "evalue": "No module named 'pyensembl'",
     "output_type": "error",
     "traceback": [
      "\u001b[0;31m---------------------------------------------------------------------------\u001b[0m",
      "\u001b[0;31mModuleNotFoundError\u001b[0m                       Traceback (most recent call last)",
      "\u001b[0;32m/var/folders/zl/x241l_jx6vlbwmtn51rfbfhw0000gn/T/ipykernel_41830/51301678.py\u001b[0m in \u001b[0;36m<module>\u001b[0;34m\u001b[0m\n\u001b[1;32m      2\u001b[0m \u001b[0;32mimport\u001b[0m \u001b[0mos\u001b[0m\u001b[0;34m\u001b[0m\u001b[0;34m\u001b[0m\u001b[0m\n\u001b[1;32m      3\u001b[0m \u001b[0;32mimport\u001b[0m \u001b[0mnumpy\u001b[0m \u001b[0;32mas\u001b[0m \u001b[0mnp\u001b[0m\u001b[0;34m\u001b[0m\u001b[0;34m\u001b[0m\u001b[0m\n\u001b[0;32m----> 4\u001b[0;31m \u001b[0;32mimport\u001b[0m \u001b[0mpyensembl\u001b[0m\u001b[0;34m\u001b[0m\u001b[0;34m\u001b[0m\u001b[0m\n\u001b[0m",
      "\u001b[0;31mModuleNotFoundError\u001b[0m: No module named 'pyensembl'"
     ]
    }
   ],
   "source": [
    "import pandas as pd\n",
    "import os\n",
    "import numpy as np\n",
    "import pyensembl\n"
   ]
  },
  {
   "cell_type": "code",
   "execution_count": 2,
   "metadata": {},
   "outputs": [],
   "source": [
    "# Get the metadata. This will be used to get the important genes from each supercluster\n",
    "# The goal will be to take each supercluster and run a coloc for each gene in that with similar eqtls and GWAS \n",
    "# for each disease\n",
    "metadata_df = pd.read_excel('/Users/nicholasjohnson/Desktop/workdir/magma/cluster_metadata.xlsx')"
   ]
  },
  {
   "cell_type": "code",
   "execution_count": 39,
   "metadata": {},
   "outputs": [
    {
     "data": {
      "text/plain": [
       "0      IGHM, MS4A1, FCRL1, AC244205.1, IGLL5, IGHA1, ...\n",
       "1      CD2, IL7R, PTPRC, SLFN12L, IL32, CCL5, GRAP2, ...\n",
       "2      NKG7, GNLY, PRF1, KLRF1, PYHIN1, CCL4, RUNX3, ...\n",
       "3      FCN1, CLEC12A, S100A4, TNFRSF1B, IFI30, LYZ, C...\n",
       "4      SRGN, RGS1, GPR183, CD69, HLA-DRA, OLR1, TNFRS...\n",
       "                             ...                        \n",
       "457    LINC01036, SPTLC3, AC105213.1, SHOX2, LINC0092...\n",
       "458    SPTLC3, NTS, COL6A5, AC105213.1, AL033530.1, C...\n",
       "459    SLC15A1, COL6A5, LHX9, FSHR, LINC01997, SLITRK...\n",
       "460    LINC01239, DMRTA1, MUC7, AC092445.1, AL159156....\n",
       "461                                                  NaN\n",
       "Name: Top Enriched Genes, Length: 462, dtype: object"
      ]
     },
     "execution_count": 39,
     "metadata": {},
     "output_type": "execute_result"
    }
   ],
   "source": [
    "metadata_df['Top Enriched Genes']"
   ]
  },
  {
   "cell_type": "code",
   "execution_count": 4,
   "metadata": {},
   "outputs": [
    {
     "data": {
      "text/plain": [
       "4     [SRGN,  RGS1,  GPR183,  CD69,  HLA-DRA,  OLR1,...\n",
       "5     [HLA-DRA,  TTR,  CD74,  HLA-DRB1,  SRGN,  RGS1...\n",
       "6     [LNCAROD,  ITGAX,  CD74,  LINC00278,  FYB1,  A...\n",
       "7     [CD74,  CX3CR1,  APBB1IP,  HLA-DRA,  LNCAROD, ...\n",
       "8     [CCDC26,  LNCAROD,  FYB1,  CSF1R,  APBB1IP,  C...\n",
       "9     [AIF1,  HLA-DRA,  CD74,  C1QC,  C1QB,  CX3CR1,...\n",
       "10    [LNCAROD,  APBB1IP,  CX3CR1,  FYB1,  CSF1R,  C...\n",
       "11    [CSF1R,  CX3CR1,  APBB1IP,  FYB1,  AL392172.1,...\n",
       "12    [MRC1,  CD163,  STAB1,  MS4A6A,  MS4A4A,  F13A...\n",
       "Name: Top Enriched Genes, dtype: object"
      ]
     },
     "execution_count": 4,
     "metadata": {},
     "output_type": "execute_result"
    }
   ],
   "source": [
    "# Reduce the map from LD reference to windows of 500kb around a gene, note positions are gr38 via NCBI.\n",
    "# This test case will be SRGN on chr 10\n",
    "LD_ref_all_df = pd.read_csv(\"/Users/nicholasjohnson/Desktop/workdir/magma/1kg_eur_1pct_ref_panel_lifted38_ld_reference.bim\", delim_whitespace=True, engine='c', names=['CHR','SNP','CM','BP','MINOR_ALLELE','MAJOR_ALLELE'])\n",
    "\n",
    "\n",
    "top_genes_per_cluster = metadata_df['Top Enriched Genes'].apply(lambda x: str(x).split(','))\n",
    "idx = metadata_df['Supercluster'] == 'Microglia'\n",
    "microglia_genes = top_genes_per_cluster[idx]\n",
    "microglia_genes"
   ]
  },
  {
   "cell_type": "code",
   "execution_count": 36,
   "metadata": {},
   "outputs": [],
   "source": [
    "    # CAn just make one large file of this for all info and import it later\n",
    "    \n",
    "    BP_window_low = 69087603 - 500000\n",
    "    BP_window_high = 69104811 + 500000\n",
    "    LD_ref_SGRN500kb_df = LD_ref_all_df[(LD_ref_all_df['CHR'] == 10) & (LD_ref_all_df['BP'] >= BP_window_low) & (LD_ref_all_df['BP'] <= BP_window_high)]"
   ]
  },
  {
   "cell_type": "code",
   "execution_count": 32,
   "metadata": {},
   "outputs": [
    {
     "data": {
      "text/plain": [
       "3418"
      ]
     },
     "execution_count": 32,
     "metadata": {},
     "output_type": "execute_result"
    }
   ],
   "source": [
    "len(LD_ref_SGRN500kb_df)"
   ]
  },
  {
   "cell_type": "code",
   "execution_count": 6,
   "metadata": {},
   "outputs": [],
   "source": [
    "AD_gwas_df = pd.read_csv(os.path.abspath('/Volumes/CARD/projects/omicSynth/outcome_summary_stats/AD.ma'),  delim_whitespace=True, engine='c', header=0, names=['SNP','A1_AD','A2_AD','freq_AD','b_AD','se_AD','p_AD','N_AD'])\n",
    "LBD_gwas_df = pd.read_csv(os.path.abspath('/Volumes/CARD/projects/omicSynth/outcome_summary_stats/LBD.ma'),  delim_whitespace=True, engine='c', header=0, names=['SNP','A1_LBD','A2_LBD','freq_LBD','b_LBD','se_LBD','p_LBD','N_LBD'])\n",
    "PD_gwas_df = pd.read_csv(os.path.abspath('/Volumes/CARD/projects/omicSynth/outcome_summary_stats/PD.ma'),  delim_whitespace=True, engine='c', header=0, names=['SNP','A1_PD','A2_APD','freq_PD','b_PD','se_PD','p_PD','N_PD'])"
   ]
  },
  {
   "cell_type": "code",
   "execution_count": 21,
   "metadata": {},
   "outputs": [],
   "source": [
    "AD_gwas_df.to_csv(\"/Users/nicholasjohnson/Desktop/workdir/magma/AD_gwas_summary_stats.ma\")\n",
    "PD_gwas_df.to_csv(\"/Users/nicholasjohnson/Desktop/workdir/magma/PD_gwas_summary_stats.ma\")\n",
    "LBD_gwas_df.to_csv(\"/Users/nicholasjohnson/Desktop/workdir/magma/LBD_gwas_summary_stats.ma\")"
   ]
  },
  {
   "cell_type": "code",
   "execution_count": 34,
   "metadata": {},
   "outputs": [],
   "source": [
    "# Merge with reference to reduce.\n",
    "LD_with_AD = LD_ref_SGRN500kb_df.merge(AD_gwas_df, how='left', on='SNP')\n",
    "#LD_with_AD_PD = LD_with_AD.merge(PD_gwas_df, how='left', on='SNP')\n",
    "#merged_df = LD_with_AD_PD.merge(LBD_gwas_df, how='left', on='SNP')"
   ]
  },
  {
   "cell_type": "code",
   "execution_count": 35,
   "metadata": {},
   "outputs": [
    {
     "data": {
      "text/plain": [
       "3418"
      ]
     },
     "execution_count": 35,
     "metadata": {},
     "output_type": "execute_result"
    }
   ],
   "source": [
    "len(LD_with_AD)"
   ]
  },
  {
   "cell_type": "code",
   "execution_count": 10,
   "metadata": {},
   "outputs": [],
   "source": [
    "# Make MAF effect and MAF columns.\n",
    "merged_df['b_AD_MA'] = np.where(merged_df['freq_AD'] <= 0.50, merged_df['b_AD'], merged_df['b_AD']*-1)\n",
    "merged_df['MAF_AD'] = np.where(merged_df['freq_AD'] <= 0.50, merged_df['freq_AD'], 1- merged_df['freq_AD'])\n",
    "merged_df['b_PD_MA'] = np.where(merged_df['freq_PD'] <= 0.50, merged_df['b_PD'], merged_df['b_PD']*-1)\n",
    "merged_df['MAF_PD'] = np.where(merged_df['freq_PD'] <= 0.50, merged_df['freq_PD'], 1- merged_df['freq_PD'])\n",
    "merged_df['b_LBD_MA'] = np.where(merged_df['freq_LBD'] <= 0.50, merged_df['b_LBD'], merged_df['b_LBD']*-1)\n",
    "merged_df['MAF_LBD'] = np.where(merged_df['freq_LBD'] <= 0.50, merged_df['freq_LBD'], 1- merged_df['freq_LBD'])"
   ]
  },
  {
   "cell_type": "code",
   "execution_count": 11,
   "metadata": {},
   "outputs": [],
   "source": [
    "# Export and summarize.\n",
    "merged_df.to_csv(\"GWASs_SGRN500kb_region_extracted.csv\", index=False)"
   ]
  },
  {
   "cell_type": "code",
   "execution_count": 79,
   "metadata": {},
   "outputs": [
    {
     "data": {
      "text/plain": [
       "\"(3, b'\\\\xf7\\\\xff\\\\xff\\\\xffV<\\\\x07\\\\x00\\\\xd0\\\\x07\\\\x00', -9, b'\\\\xf7', b'\\\\xff', nan, nan, nan, nan)\""
      ]
     },
     "execution_count": 79,
     "metadata": {},
     "output_type": "execute_result"
    }
   ],
   "source": [
    "str(start_byte)"
   ]
  },
  {
   "cell_type": "code",
   "execution_count": null,
   "metadata": {},
   "outputs": [],
   "source": []
  }
 ],
 "metadata": {
  "interpreter": {
   "hash": "553c11e9c60eb1708b6bd21fb5c3b5de8a88cd62155343a2e6f969939122a4b1"
  },
  "kernelspec": {
   "display_name": "Python 3.8.12",
   "language": "python",
   "name": "python3"
  },
  "language_info": {
   "codemirror_mode": {
    "name": "ipython",
    "version": 3
   },
   "file_extension": ".py",
   "mimetype": "text/x-python",
   "name": "python",
   "nbconvert_exporter": "python",
   "pygments_lexer": "ipython3",
   "version": "3.8.12"
  },
  "orig_nbformat": 4
 },
 "nbformat": 4,
 "nbformat_minor": 2
}
